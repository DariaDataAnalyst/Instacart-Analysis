{
 "cells": [
  {
   "cell_type": "code",
   "execution_count": 2,
   "id": "d9ade724",
   "metadata": {},
   "outputs": [],
   "source": [
    "# Import libraries\n",
    "import pandas as pd\n",
    "import numpy as np\n",
    "import os\n",
    "import matplotlib.pyplot as plt\n",
    "import seaborn as sns\n",
    "import scipy"
   ]
  },
  {
   "cell_type": "code",
   "execution_count": 3,
   "id": "1c840965",
   "metadata": {},
   "outputs": [],
   "source": [
    "# Import data set\n",
    "path=r'/Users/dariaperestiuk/Documents/02_02_24 Instacart Basket Analysis'\n",
    "df=pd.read_pickle(os.path.join(path, '02 Data', 'Prepared Data', '4.9.final_part_1.pkl'))"
   ]
  },
  {
   "cell_type": "code",
   "execution_count": null,
   "id": "e8c45080",
   "metadata": {},
   "outputs": [],
   "source": [
    "df_2=pd.read_csv(os.path.join(path, '02 Data', 'Prepared Data', 'departments_wrangled.csv'))"
   ]
  },
  {
   "cell_type": "code",
   "execution_count": null,
   "id": "f973dcf8",
   "metadata": {},
   "outputs": [],
   "source": [
    "df_2.rename(columns = {'Unnamed: 0' : 'department_id'}, inplace = True)"
   ]
  },
  {
   "cell_type": "code",
   "execution_count": null,
   "id": "a75d83dc",
   "metadata": {},
   "outputs": [],
   "source": [
    "df_merged_large = df.merge(df_2, on = 'department_id')"
   ]
  },
  {
   "cell_type": "code",
   "execution_count": 22,
   "id": "1d08b3c2",
   "metadata": {},
   "outputs": [
    {
     "name": "stdout",
     "output_type": "stream",
     "text": [
      "<class 'pandas.core.frame.DataFrame'>\n",
      "Int64Index: 32434212 entries, 0 to 32434211\n",
      "Data columns (total 30 columns):\n",
      " #   Column                      Dtype  \n",
      "---  ------                      -----  \n",
      " 0   product_id                  int32  \n",
      " 1   product_name                object \n",
      " 2   department_id               int8   \n",
      " 3   prices                      float64\n",
      " 4   order_id                    int32  \n",
      " 5   user_id                     object \n",
      " 6   order_number                int8   \n",
      " 7   order_day_of_week           int8   \n",
      " 8   order_hour_of_day           int64  \n",
      " 9   days_since_prior_order      float64\n",
      " 10  add_to_cart_order           int64  \n",
      " 11  reordered                   int64  \n",
      " 12  price_range_loc             object \n",
      " 13  busiest_days                object \n",
      " 14  busiest_period_of_day       object \n",
      " 15  max_order                   int8   \n",
      " 16  loyalty_flag                object \n",
      " 17  mean_product_price          float64\n",
      " 18  spending_flag               object \n",
      " 19  median_days_between_orders  float64\n",
      " 20  order_frequency             object \n",
      " 21  Gender                      object \n",
      " 22  State                       object \n",
      " 23  Age                         int8   \n",
      " 24  date_joined                 object \n",
      " 25  Dependants                  int8   \n",
      " 26  Marital_Status              object \n",
      " 27  income                      int32  \n",
      " 28  Shopping_Behavior           object \n",
      " 29  Lifestyle                   object \n",
      "dtypes: float64(4), int32(3), int64(3), int8(6), object(14)\n",
      "memory usage: 5.9+ GB\n"
     ]
    }
   ],
   "source": [
    "df.info()"
   ]
  },
  {
   "cell_type": "code",
   "execution_count": 21,
   "id": "90144a88",
   "metadata": {},
   "outputs": [
    {
     "data": {
      "text/plain": [
       "(32434212, 30)"
      ]
     },
     "execution_count": 21,
     "metadata": {},
     "output_type": "execute_result"
    }
   ],
   "source": [
    "df.shape"
   ]
  },
  {
   "cell_type": "code",
   "execution_count": 6,
   "id": "f6df0bc6",
   "metadata": {},
   "outputs": [],
   "source": [
    "df=df.drop(columns = ['busiest_day','aisle_id', '_merge', 'First Name', 'Last Name', 'eval_set'])"
   ]
  },
  {
   "cell_type": "code",
   "execution_count": null,
   "id": "82b49579",
   "metadata": {},
   "outputs": [],
   "source": []
  },
  {
   "cell_type": "code",
   "execution_count": 25,
   "id": "858db329",
   "metadata": {},
   "outputs": [
    {
     "data": {
      "text/plain": [
       "0    Most orders\n",
       "1    Most orders\n",
       "2    Most orders\n",
       "3    Most orders\n",
       "4    Most orders\n",
       "Name: busiest_period_of_day, dtype: object"
      ]
     },
     "execution_count": 25,
     "metadata": {},
     "output_type": "execute_result"
    }
   ],
   "source": [
    "df['busiest_period_of_day'].head()"
   ]
  },
  {
   "cell_type": "code",
   "execution_count": 26,
   "id": "7e99d4d4",
   "metadata": {},
   "outputs": [
    {
     "data": {
      "text/plain": [
       "Regular customer    15891077\n",
       "Loyal customer      10293737\n",
       "New customer         6249398\n",
       "Name: loyalty_flag, dtype: int64"
      ]
     },
     "execution_count": 26,
     "metadata": {},
     "output_type": "execute_result"
    }
   ],
   "source": [
    "df['loyalty_flag'].value_counts(dropna = False)"
   ]
  },
  {
   "cell_type": "code",
   "execution_count": 27,
   "id": "ec61d75a",
   "metadata": {},
   "outputs": [
    {
     "data": {
      "text/plain": [
       "Low spender     31798751\n",
       "High spender      635461\n",
       "Name: spending_flag, dtype: int64"
      ]
     },
     "execution_count": 27,
     "metadata": {},
     "output_type": "execute_result"
    }
   ],
   "source": [
    "df['spending_flag'].value_counts(dropna = False)"
   ]
  },
  {
   "cell_type": "code",
   "execution_count": 28,
   "id": "fc004754",
   "metadata": {},
   "outputs": [
    {
     "data": {
      "text/plain": [
       "Frequent customer        21577409\n",
       "Regular customer          7217134\n",
       "Non-frequent customer     3639669\n",
       "Name: order_frequency, dtype: int64"
      ]
     },
     "execution_count": 28,
     "metadata": {},
     "output_type": "execute_result"
    }
   ],
   "source": [
    "df['order_frequency'].value_counts(dropna = False)"
   ]
  },
  {
   "cell_type": "code",
   "execution_count": 29,
   "id": "759c0000",
   "metadata": {},
   "outputs": [
    {
     "data": {
      "text/plain": [
       "Mid-range product     21890146\n",
       "Low-range product     10126384\n",
       "High-range product      417682\n",
       "Name: price_range_loc, dtype: int64"
      ]
     },
     "execution_count": 29,
     "metadata": {},
     "output_type": "execute_result"
    }
   ],
   "source": [
    "df['price_range_loc'].value_counts(dropna = False)"
   ]
  },
  {
   "cell_type": "code",
   "execution_count": 30,
   "id": "50ea4561",
   "metadata": {},
   "outputs": [
    {
     "data": {
      "text/plain": [
       "Regularly busy    12927461\n",
       "Busiest days      11875462\n",
       "Slowest days       7631289\n",
       "Name: busiest_days, dtype: int64"
      ]
     },
     "execution_count": 30,
     "metadata": {},
     "output_type": "execute_result"
    }
   ],
   "source": [
    "df['busiest_days'].value_counts(dropna = False)"
   ]
  },
  {
   "cell_type": "code",
   "execution_count": 31,
   "id": "24bbca4f",
   "metadata": {},
   "outputs": [
    {
     "data": {
      "text/plain": [
       "Most orders       23226714\n",
       "Average orders     8319912\n",
       "Fewest orders       887586\n",
       "Name: busiest_period_of_day, dtype: int64"
      ]
     },
     "execution_count": 31,
     "metadata": {},
     "output_type": "execute_result"
    }
   ],
   "source": [
    "df['busiest_period_of_day'].value_counts(dropna = False)"
   ]
  },
  {
   "cell_type": "code",
   "execution_count": 33,
   "id": "c581dd32",
   "metadata": {},
   "outputs": [
    {
     "data": {
      "text/plain": [
       "South        10801610\n",
       "West          8300445\n",
       "Midwest       7603810\n",
       "Northeast     5728347\n",
       "Name: region, dtype: int64"
      ]
     },
     "execution_count": 33,
     "metadata": {},
     "output_type": "execute_result"
    }
   ],
   "source": [
    "df['region'].value_counts(dropna = False)"
   ]
  },
  {
   "cell_type": "code",
   "execution_count": 16,
   "id": "09e70fe8",
   "metadata": {},
   "outputs": [
    {
     "data": {
      "text/plain": [
       "early bird    17293547\n",
       "regular       15136891\n",
       "night owl         3774\n",
       "Name: Shopping_Behavior, dtype: int64"
      ]
     },
     "execution_count": 16,
     "metadata": {},
     "output_type": "execute_result"
    }
   ],
   "source": [
    "df['Shopping_Behavior'].value_counts(dropna = False)"
   ]
  },
  {
   "cell_type": "code",
   "execution_count": 20,
   "id": "32c470d9",
   "metadata": {},
   "outputs": [
    {
     "data": {
      "text/plain": [
       "married, middle-income    17002563\n",
       "single, high-income        5711067\n",
       "married, low-income        4141296\n",
       "single, middle-income      3869474\n",
       "married, high-income       1633054\n",
       "single, low-income           76758\n",
       "Name: Lifestyle, dtype: int64"
      ]
     },
     "execution_count": 20,
     "metadata": {},
     "output_type": "execute_result"
    }
   ],
   "source": [
    "df['Lifestyle'].value_counts(dropna = False)"
   ]
  },
  {
   "cell_type": "code",
   "execution_count": null,
   "id": "7f2d3721",
   "metadata": {},
   "outputs": [],
   "source": []
  },
  {
   "cell_type": "code",
   "execution_count": null,
   "id": "cd4d857b",
   "metadata": {},
   "outputs": [],
   "source": []
  },
  {
   "cell_type": "code",
   "execution_count": 32,
   "id": "44fb7576",
   "metadata": {},
   "outputs": [],
   "source": [
    "# Create a new column \"region\" using loc function with mapping\n",
    "df['region'] = 'West'\n",
    "\n",
    "df.loc[df['State'].isin(['Maine', 'New Hampshire', 'Vermont', 'Massachusetts', 'Rhode Island', 'Connecticut', 'New York', 'Pennsylvania', 'New Jersey']), 'region'] = 'Northeast'\n",
    "\n",
    "df.loc[df['State'].isin(['Wisconsin', 'Michigan', 'Illinois', 'Indiana', 'Ohio', 'North Dakota', 'South Dakota', 'Nebraska', 'Kansas', 'Minnesota', 'Iowa', 'Missouri']), 'region'] = 'Midwest'\n",
    "\n",
    "df.loc[df['State'].isin(['Delaware', 'Maryland', 'District of Columbia', 'Virginia', 'West Virginia', 'North Carolina', 'South Carolina', 'Georgia', 'Florida', 'Kentucky', 'Tennessee', 'Mississippi', 'Alabama', 'Oklahoma', 'Texas', 'Arkansas', 'Louisiana']), 'region'] = 'South'"
   ]
  },
  {
   "cell_type": "code",
   "execution_count": null,
   "id": "25966049",
   "metadata": {},
   "outputs": [],
   "source": []
  },
  {
   "cell_type": "code",
   "execution_count": 14,
   "id": "2d90e8e7",
   "metadata": {},
   "outputs": [],
   "source": [
    "# Define a function for price labels\n",
    "\n",
    "def Shopping_Behavior_label (row):\n",
    "\n",
    "  if row['order_hour_of_day'] > 5 and (row['prices'] <= 8):\n",
    "    return 'early bird'\n",
    "  elif (row['order_hour_of_day'] <= 5) and (row['prices'] >= 21):\n",
    "    return 'night owl'\n",
    "  else: return 'regular'"
   ]
  },
  {
   "cell_type": "code",
   "execution_count": 15,
   "id": "fe54b4b2",
   "metadata": {},
   "outputs": [],
   "source": [
    "# Apply price range function\n",
    "df['Shopping_Behavior'] = df.apply(Shopping_Behavior_label, axis=1)"
   ]
  },
  {
   "cell_type": "code",
   "execution_count": 18,
   "id": "a87e8465",
   "metadata": {},
   "outputs": [],
   "source": [
    "# Define a function for price labels\n",
    "\n",
    "def Lifestyle_label(row):\n",
    "\n",
    "  if row['Marital_Status'] == 'married' and (row['income'] <= 60000):\n",
    "    return 'married, low-income'\n",
    "\n",
    "  elif (row['Marital_Status'] == 'married') and (row['income'] > 60000) and (row['income'] <= 160000):\n",
    "    return 'married, middle-income'\n",
    "\n",
    "  elif (row['Marital_Status'] == 'married') and (row['income'] > 160000):\n",
    "    return 'married, high-income'\n",
    "\n",
    "  elif (row['Marital_Status'] == 'single' or 'divorced/widowed' or 'living with parents and siblings') and (row['income'] <= 30000):\n",
    "    return 'single, low-income'\n",
    "\n",
    "  elif (row['Marital_Status'] == 'single' or 'divorced/widowed' or 'living with parents and siblings') and (row['income'] > 30000) and (row['income'] <= 80000):\n",
    "    return 'single, middle-income'\n",
    "\n",
    "  elif (row['Marital_Status'] == 'single' or 'divorced/widowed' or 'living with parents and siblings') and (row['income'] > 80000):\n",
    "    return 'single, high-income'\n",
    "\n",
    " \n",
    "  else: return 'regular'"
   ]
  },
  {
   "cell_type": "code",
   "execution_count": 19,
   "id": "cecca879",
   "metadata": {},
   "outputs": [],
   "source": [
    "# Apply price range function\n",
    "df['Lifestyle'] = df.apply(Lifestyle_label, axis=1)"
   ]
  },
  {
   "cell_type": "code",
   "execution_count": null,
   "id": "a11c1072",
   "metadata": {},
   "outputs": [],
   "source": []
  },
  {
   "cell_type": "code",
   "execution_count": 8,
   "id": "747cbcf3",
   "metadata": {},
   "outputs": [],
   "source": [
    "# Change data type downcast to integer\n",
    "df['department_id'] = pd.to_numeric(df['department_id'], downcast = 'integer')"
   ]
  },
  {
   "cell_type": "code",
   "execution_count": 9,
   "id": "7318d105",
   "metadata": {},
   "outputs": [],
   "source": [
    "df['order_id'] = pd.to_numeric(df['order_id'], downcast = 'integer')"
   ]
  },
  {
   "cell_type": "code",
   "execution_count": 10,
   "id": "7301e3fd",
   "metadata": {},
   "outputs": [],
   "source": [
    "df['product_id'] = pd.to_numeric(df['product_id'], downcast = 'integer')\n",
    "df['order_number'] = pd.to_numeric(df['order_number'], downcast = 'integer')\n",
    "df['order_dow'] = pd.to_numeric(df['order_dow'], downcast = 'integer')\n",
    "df['max_order'] = pd.to_numeric(df['max_order'], downcast = 'integer')\n",
    "df['Age'] = pd.to_numeric(df['Age'], downcast = 'integer')\n",
    "df['Dependants'] = pd.to_numeric(df['Dependants'], downcast = 'integer')\n",
    "df['income'] = pd.to_numeric(df['income'], downcast = 'integer')"
   ]
  },
  {
   "cell_type": "code",
   "execution_count": 11,
   "id": "ce465341",
   "metadata": {},
   "outputs": [],
   "source": [
    "df.rename(columns = {'order_dow' : 'order_day_of_week'}, inplace = True)"
   ]
  },
  {
   "cell_type": "code",
   "execution_count": null,
   "id": "de26a6d9",
   "metadata": {},
   "outputs": [],
   "source": []
  },
  {
   "cell_type": "code",
   "execution_count": 5,
   "id": "8a5e724b",
   "metadata": {},
   "outputs": [
    {
     "data": {
      "text/plain": [
       "Text(0.5, 1.0, 'Return Customers by Loyalty')"
      ]
     },
     "execution_count": 5,
     "metadata": {},
     "output_type": "execute_result"
    },
    {
     "data": {
      "image/png": "[encoded data removed]",
      "text/plain": [
       "<Figure size 640x480 with 1 Axes>"
      ]
     },
     "metadata": {},
     "output_type": "display_data"
    }
   ],
   "source": [
    "bar_1 = sns.countplot(x='loyalty_flag',hue='reordered',data=df)\n",
    "sns.set(rc={'figure.figsize':(10,10)})\n",
    "plt.title(\"Return Customers by Loyalty\")"
   ]
  },
  {
   "cell_type": "code",
   "execution_count": 9,
   "id": "708e1233",
   "metadata": {},
   "outputs": [],
   "source": [
    "# Exporting chart\n",
    "bar_1.figure.savefig(os.path.join(path, '04 Analysis', 'Visualizations', 'Return Customers by Loyalty.png'))"
   ]
  },
  {
   "cell_type": "code",
   "execution_count": null,
   "id": "adcef6b8",
   "metadata": {},
   "outputs": [],
   "source": []
  },
  {
   "cell_type": "markdown",
   "id": "a99b2fba",
   "metadata": {},
   "source": [
    "### Sampling Data\n"
   ]
  },
  {
   "cell_type": "code",
   "execution_count": 23,
   "id": "635c00ed",
   "metadata": {},
   "outputs": [],
   "source": [
    "# Set the seed for the random number generator\n",
    "np.random.seed(4)"
   ]
  },
  {
   "cell_type": "code",
   "execution_count": 24,
   "id": "be0b818d",
   "metadata": {},
   "outputs": [],
   "source": [
    "# Create Sample in a 70/30 split\n",
    "dev = np.random.rand(len(df)) <= 0.7"
   ]
  },
  {
   "cell_type": "code",
   "execution_count": 25,
   "id": "8498e32e",
   "metadata": {},
   "outputs": [
    {
     "data": {
      "text/plain": [
       "array([False,  True, False, ..., False,  True,  True])"
      ]
     },
     "execution_count": 25,
     "metadata": {},
     "output_type": "execute_result"
    }
   ],
   "source": [
    "# View Output\n",
    "dev"
   ]
  },
  {
   "cell_type": "code",
   "execution_count": 26,
   "id": "9a106927",
   "metadata": {},
   "outputs": [
    {
     "data": {
      "text/plain": [
       "array([0.16891835, 0.04368635, 0.41602642, 0.88973306, 0.66299301,\n",
       "       0.78345326, 0.02169353, 0.79078115, 0.45980038, 0.17173956])"
      ]
     },
     "execution_count": 26,
     "metadata": {},
     "output_type": "execute_result"
    }
   ],
   "source": [
    "np.random.rand(10)"
   ]
  },
  {
   "cell_type": "code",
   "execution_count": 27,
   "id": "7a24f1db",
   "metadata": {},
   "outputs": [],
   "source": [
    "#Store 30% of the sample in the dataframe small\n",
    "small = df[~dev]"
   ]
  },
  {
   "cell_type": "code",
   "execution_count": 28,
   "id": "f3fc720d",
   "metadata": {},
   "outputs": [],
   "source": [
    "# Export as pickle file\n",
    "small.to_pickle(os.path.join(path, '02 Data', 'Prepared Data', 'Small_sampling.pkl'))"
   ]
  },
  {
   "cell_type": "markdown",
   "id": "b9a77e2e",
   "metadata": {},
   "source": [
    "### Export Data"
   ]
  },
  {
   "cell_type": "code",
   "execution_count": 29,
   "id": "2f778588",
   "metadata": {},
   "outputs": [],
   "source": [
    "df.to_pickle(os.path.join(path, '02 Data', 'Prepared Data', 'final_full.pkl'))"
   ]
  },
  {
   "cell_type": "code",
   "execution_count": null,
   "id": "9204bdef",
   "metadata": {},
   "outputs": [],
   "source": []
  },
  {
   "cell_type": "code",
   "execution_count": null,
   "id": "9c9e897f",
   "metadata": {},
   "outputs": [],
   "source": []
  },
  {
   "cell_type": "code",
   "execution_count": null,
   "id": "2fca524f",
   "metadata": {},
   "outputs": [],
   "source": []
  },
  {
   "cell_type": "code",
   "execution_count": null,
   "id": "3f657d00",
   "metadata": {},
   "outputs": [],
   "source": []
  },
  {
   "cell_type": "code",
   "execution_count": null,
   "id": "3d59b9d5",
   "metadata": {},
   "outputs": [],
   "source": []
  },
  {
   "cell_type": "code",
   "execution_count": null,
   "id": "185fdd5b",
   "metadata": {},
   "outputs": [],
   "source": []
  }
 ],
 "metadata": {
  "kernelspec": {
   "display_name": "Python 3 (ipykernel)",
   "language": "python",
   "name": "python3"
  },
  "language_info": {
   "codemirror_mode": {
    "name": "ipython",
    "version": 3
   },
   "file_extension": ".py",
   "mimetype": "text/x-python",
   "name": "python",
   "nbconvert_exporter": "python",
   "pygments_lexer": "ipython3",
   "version": "3.10.9"
  }
 },
 "nbformat": 4,
 "nbformat_minor": 5
}
