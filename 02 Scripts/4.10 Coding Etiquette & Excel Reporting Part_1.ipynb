{
 "cells": [
  {
   "cell_type": "markdown",
   "id": "251b7770",
   "metadata": {},
   "source": [
    "# 4.10 Coding Etiquette & Excel Reporting Part_1\n",
    "This script contains the following points:\n",
    "1. Import Data\n",
    "2. Question 3\n",
    "3. Question 4\n",
    "4. Question 5\n",
    "5. Task Proocedures\n",
    "6. Export data"
   ]
  },
  {
   "cell_type": "markdown",
   "id": "ad7ebc4b",
   "metadata": {},
   "source": [
    "## Import Data"
   ]
  },
  {
   "cell_type": "code",
   "execution_count": 2,
   "id": "0134916c",
   "metadata": {},
   "outputs": [],
   "source": [
    "# Import libraries\n",
    "import pandas as pd\n",
    "import numpy as np\n",
    "import os\n",
    "import matplotlib.pyplot as plt\n",
    "import seaborn as sns\n",
    "import scipy"
   ]
  },
  {
   "cell_type": "code",
   "execution_count": 3,
   "id": "3174b558",
   "metadata": {},
   "outputs": [],
   "source": [
    "# Import data set\n",
    "path=r'/Users/dariaperestiuk/Documents/02_02_24 Instacart Basket Analysis'\n",
    "df=pd.read_pickle(os.path.join(path, '02 Data', 'Prepared Data', '4.9.final_part_1.pkl'))"
   ]
  },
  {
   "cell_type": "code",
   "execution_count": 4,
   "id": "2d614408",
   "metadata": {},
   "outputs": [
    {
     "name": "stdout",
     "output_type": "stream",
     "text": [
      "<class 'pandas.core.frame.DataFrame'>\n",
      "Int64Index: 32434212 entries, 0 to 32434211\n",
      "Data columns (total 34 columns):\n",
      " #   Column                      Dtype   \n",
      "---  ------                      -----   \n",
      " 0   product_id                  int64   \n",
      " 1   product_name                object  \n",
      " 2   aisle_id                    int64   \n",
      " 3   department_id               int64   \n",
      " 4   prices                      float64 \n",
      " 5   order_id                    object  \n",
      " 6   user_id                     object  \n",
      " 7   eval_set                    object  \n",
      " 8   order_number                int64   \n",
      " 9   order_dow                   int64   \n",
      " 10  order_hour_of_day           int64   \n",
      " 11  days_since_prior_order      float64 \n",
      " 12  add_to_cart_order           int64   \n",
      " 13  reordered                   int64   \n",
      " 14  price_range_loc             object  \n",
      " 15  busiest_day                 object  \n",
      " 16  busiest_days                object  \n",
      " 17  busiest_period_of_day       object  \n",
      " 18  max_order                   int64   \n",
      " 19  loyalty_flag                object  \n",
      " 20  mean_product_price          float64 \n",
      " 21  spending_flag               object  \n",
      " 22  median_days_between_orders  float64 \n",
      " 23  order_frequency             object  \n",
      " 24  First Name                  object  \n",
      " 25  Last Name                   object  \n",
      " 26  Gender                      object  \n",
      " 27  State                       object  \n",
      " 28  Age                         int64   \n",
      " 29  date_joined                 object  \n",
      " 30  Dependants                  int64   \n",
      " 31  Marital_Status              object  \n",
      " 32  income                      int64   \n",
      " 33  _merge                      category\n",
      "dtypes: category(1), float64(4), int64(12), object(17)\n",
      "memory usage: 8.2+ GB\n"
     ]
    }
   ],
   "source": [
    "df.info()"
   ]
  },
  {
   "cell_type": "code",
   "execution_count": 5,
   "id": "cfd4c30d",
   "metadata": {},
   "outputs": [],
   "source": [
    "# Creating crosstab \n",
    "crosstab = pd.crosstab(df['days_since_prior_order'], df['order_number'], dropna = False)"
   ]
  },
  {
   "cell_type": "code",
   "execution_count": 6,
   "id": "318e40cc",
   "metadata": {},
   "outputs": [],
   "source": [
    "# Сopy crosstab to cliboard to past it to excel\n",
    "crosstab.to_clipboard()"
   ]
  },
  {
   "cell_type": "code",
   "execution_count": 30,
   "id": "9d09a90e",
   "metadata": {},
   "outputs": [
    {
     "data": {
      "text/html": [
       "<div>\n",
       "<style scoped>\n",
       "    .dataframe tbody tr th:only-of-type {\n",
       "        vertical-align: middle;\n",
       "    }\n",
       "\n",
       "    .dataframe tbody tr th {\n",
       "        vertical-align: top;\n",
       "    }\n",
       "\n",
       "    .dataframe thead th {\n",
       "        text-align: right;\n",
       "    }\n",
       "</style>\n",
       "<table border=\"1\" class=\"dataframe\">\n",
       "  <thead>\n",
       "    <tr style=\"text-align: right;\">\n",
       "      <th></th>\n",
       "      <th>product_id</th>\n",
       "      <th>aisle_id</th>\n",
       "      <th>department_id</th>\n",
       "      <th>prices</th>\n",
       "      <th>order_number</th>\n",
       "      <th>order_dow</th>\n",
       "      <th>order_hour_of_day</th>\n",
       "      <th>days_since_prior_order</th>\n",
       "      <th>add_to_cart_order</th>\n",
       "      <th>reordered</th>\n",
       "      <th>max_order</th>\n",
       "      <th>mean_product_price</th>\n",
       "      <th>median_days_between_orders</th>\n",
       "      <th>Age</th>\n",
       "      <th>Dependants</th>\n",
       "      <th>income</th>\n",
       "    </tr>\n",
       "  </thead>\n",
       "  <tbody>\n",
       "    <tr>\n",
       "      <th>count</th>\n",
       "      <td>32434212.00</td>\n",
       "      <td>32434212.00</td>\n",
       "      <td>32434212.00</td>\n",
       "      <td>32434212.00</td>\n",
       "      <td>32434212.00</td>\n",
       "      <td>32434212.00</td>\n",
       "      <td>32434212.00</td>\n",
       "      <td>30356128.00</td>\n",
       "      <td>32434212.00</td>\n",
       "      <td>32434212.00</td>\n",
       "      <td>32434212.00</td>\n",
       "      <td>32434212.00</td>\n",
       "      <td>32434212.00</td>\n",
       "      <td>32434212.00</td>\n",
       "      <td>32434212.00</td>\n",
       "      <td>32434212.00</td>\n",
       "    </tr>\n",
       "    <tr>\n",
       "      <th>mean</th>\n",
       "      <td>25577.78</td>\n",
       "      <td>71.22</td>\n",
       "      <td>9.92</td>\n",
       "      <td>11.98</td>\n",
       "      <td>17.14</td>\n",
       "      <td>2.74</td>\n",
       "      <td>13.42</td>\n",
       "      <td>11.10</td>\n",
       "      <td>8.35</td>\n",
       "      <td>0.59</td>\n",
       "      <td>33.05</td>\n",
       "      <td>11.98</td>\n",
       "      <td>10.40</td>\n",
       "      <td>49.47</td>\n",
       "      <td>1.50</td>\n",
       "      <td>99435.25</td>\n",
       "    </tr>\n",
       "    <tr>\n",
       "      <th>std</th>\n",
       "      <td>14096.14</td>\n",
       "      <td>38.20</td>\n",
       "      <td>6.28</td>\n",
       "      <td>495.43</td>\n",
       "      <td>17.53</td>\n",
       "      <td>2.09</td>\n",
       "      <td>4.25</td>\n",
       "      <td>8.78</td>\n",
       "      <td>7.13</td>\n",
       "      <td>0.49</td>\n",
       "      <td>25.15</td>\n",
       "      <td>83.19</td>\n",
       "      <td>7.13</td>\n",
       "      <td>18.49</td>\n",
       "      <td>1.12</td>\n",
       "      <td>43054.73</td>\n",
       "    </tr>\n",
       "    <tr>\n",
       "      <th>min</th>\n",
       "      <td>1.00</td>\n",
       "      <td>1.00</td>\n",
       "      <td>1.00</td>\n",
       "      <td>1.00</td>\n",
       "      <td>1.00</td>\n",
       "      <td>0.00</td>\n",
       "      <td>0.00</td>\n",
       "      <td>0.00</td>\n",
       "      <td>1.00</td>\n",
       "      <td>0.00</td>\n",
       "      <td>3.00</td>\n",
       "      <td>1.00</td>\n",
       "      <td>0.00</td>\n",
       "      <td>18.00</td>\n",
       "      <td>0.00</td>\n",
       "      <td>25903.00</td>\n",
       "    </tr>\n",
       "    <tr>\n",
       "      <th>25%</th>\n",
       "      <td>13535.00</td>\n",
       "      <td>31.00</td>\n",
       "      <td>4.00</td>\n",
       "      <td>4.20</td>\n",
       "      <td>5.00</td>\n",
       "      <td>1.00</td>\n",
       "      <td>10.00</td>\n",
       "      <td>5.00</td>\n",
       "      <td>3.00</td>\n",
       "      <td>0.00</td>\n",
       "      <td>13.00</td>\n",
       "      <td>7.39</td>\n",
       "      <td>6.00</td>\n",
       "      <td>33.00</td>\n",
       "      <td>1.00</td>\n",
       "      <td>66998.00</td>\n",
       "    </tr>\n",
       "    <tr>\n",
       "      <th>50%</th>\n",
       "      <td>25256.00</td>\n",
       "      <td>83.00</td>\n",
       "      <td>9.00</td>\n",
       "      <td>7.40</td>\n",
       "      <td>11.00</td>\n",
       "      <td>3.00</td>\n",
       "      <td>13.00</td>\n",
       "      <td>8.00</td>\n",
       "      <td>6.00</td>\n",
       "      <td>1.00</td>\n",
       "      <td>26.00</td>\n",
       "      <td>7.83</td>\n",
       "      <td>8.00</td>\n",
       "      <td>49.00</td>\n",
       "      <td>2.00</td>\n",
       "      <td>96612.00</td>\n",
       "    </tr>\n",
       "    <tr>\n",
       "      <th>75%</th>\n",
       "      <td>37935.00</td>\n",
       "      <td>107.00</td>\n",
       "      <td>16.00</td>\n",
       "      <td>11.30</td>\n",
       "      <td>24.00</td>\n",
       "      <td>5.00</td>\n",
       "      <td>16.00</td>\n",
       "      <td>15.00</td>\n",
       "      <td>11.00</td>\n",
       "      <td>1.00</td>\n",
       "      <td>47.00</td>\n",
       "      <td>8.26</td>\n",
       "      <td>13.00</td>\n",
       "      <td>65.00</td>\n",
       "      <td>3.00</td>\n",
       "      <td>127908.00</td>\n",
       "    </tr>\n",
       "    <tr>\n",
       "      <th>max</th>\n",
       "      <td>49688.00</td>\n",
       "      <td>134.00</td>\n",
       "      <td>21.00</td>\n",
       "      <td>99999.00</td>\n",
       "      <td>99.00</td>\n",
       "      <td>6.00</td>\n",
       "      <td>23.00</td>\n",
       "      <td>30.00</td>\n",
       "      <td>145.00</td>\n",
       "      <td>1.00</td>\n",
       "      <td>99.00</td>\n",
       "      <td>25005.42</td>\n",
       "      <td>30.00</td>\n",
       "      <td>81.00</td>\n",
       "      <td>3.00</td>\n",
       "      <td>593901.00</td>\n",
       "    </tr>\n",
       "  </tbody>\n",
       "</table>\n",
       "</div>"
      ],
      "text/plain": [
       "       product_id    aisle_id  department_id      prices  order_number  \\\n",
       "count 32434212.00 32434212.00    32434212.00 32434212.00   32434212.00   \n",
       "mean     25577.78       71.22           9.92       11.98         17.14   \n",
       "std      14096.14       38.20           6.28      495.43         17.53   \n",
       "min          1.00        1.00           1.00        1.00          1.00   \n",
       "25%      13535.00       31.00           4.00        4.20          5.00   \n",
       "50%      25256.00       83.00           9.00        7.40         11.00   \n",
       "75%      37935.00      107.00          16.00       11.30         24.00   \n",
       "max      49688.00      134.00          21.00    99999.00         99.00   \n",
       "\n",
       "        order_dow  order_hour_of_day  days_since_prior_order  \\\n",
       "count 32434212.00        32434212.00             30356128.00   \n",
       "mean         2.74              13.42                   11.10   \n",
       "std          2.09               4.25                    8.78   \n",
       "min          0.00               0.00                    0.00   \n",
       "25%          1.00              10.00                    5.00   \n",
       "50%          3.00              13.00                    8.00   \n",
       "75%          5.00              16.00                   15.00   \n",
       "max          6.00              23.00                   30.00   \n",
       "\n",
       "       add_to_cart_order   reordered   max_order  mean_product_price  \\\n",
       "count        32434212.00 32434212.00 32434212.00         32434212.00   \n",
       "mean                8.35        0.59       33.05               11.98   \n",
       "std                 7.13        0.49       25.15               83.19   \n",
       "min                 1.00        0.00        3.00                1.00   \n",
       "25%                 3.00        0.00       13.00                7.39   \n",
       "50%                 6.00        1.00       26.00                7.83   \n",
       "75%                11.00        1.00       47.00                8.26   \n",
       "max               145.00        1.00       99.00            25005.42   \n",
       "\n",
       "       median_days_between_orders         Age  Dependants      income  \n",
       "count                 32434212.00 32434212.00 32434212.00 32434212.00  \n",
       "mean                        10.40       49.47        1.50    99435.25  \n",
       "std                          7.13       18.49        1.12    43054.73  \n",
       "min                          0.00       18.00        0.00    25903.00  \n",
       "25%                          6.00       33.00        1.00    66998.00  \n",
       "50%                          8.00       49.00        2.00    96612.00  \n",
       "75%                         13.00       65.00        3.00   127908.00  \n",
       "max                         30.00       81.00        3.00   593901.00  "
      ]
     },
     "execution_count": 30,
     "metadata": {},
     "output_type": "execute_result"
    }
   ],
   "source": [
    "df.describe()"
   ]
  },
  {
   "cell_type": "code",
   "execution_count": 9,
   "id": "ed70b4b2",
   "metadata": {},
   "outputs": [],
   "source": [
    "# Fix formatting to remove scientific notation\n",
    "pd.set_option('display.float_format', lambda x: '%.2f' % x)"
   ]
  },
  {
   "cell_type": "markdown",
   "id": "020ca860",
   "metadata": {},
   "source": [
    "## Question 3"
   ]
  },
  {
   "cell_type": "markdown",
   "id": "80d0f1e0",
   "metadata": {},
   "source": [
    "#### The Instacart officers are interested in comparing customer behavior in different geographic areas. Create a regional segmentation of the data. You’ll need to create a “Region” column based on the “State” column from your customers data set.\n",
    "Use the region information in this Wikipedia article to create your column (you only need to create regions, not divisions)."
   ]
  },
  {
   "cell_type": "code",
   "execution_count": 39,
   "id": "9700bff8",
   "metadata": {},
   "outputs": [
    {
     "data": {
      "text/html": [
       "<div>\n",
       "<style scoped>\n",
       "    .dataframe tbody tr th:only-of-type {\n",
       "        vertical-align: middle;\n",
       "    }\n",
       "\n",
       "    .dataframe tbody tr th {\n",
       "        vertical-align: top;\n",
       "    }\n",
       "\n",
       "    .dataframe thead th {\n",
       "        text-align: right;\n",
       "    }\n",
       "</style>\n",
       "<table border=\"1\" class=\"dataframe\">\n",
       "  <thead>\n",
       "    <tr style=\"text-align: right;\">\n",
       "      <th></th>\n",
       "      <th>product_id</th>\n",
       "      <th>product_name</th>\n",
       "      <th>aisle_id</th>\n",
       "      <th>department_id</th>\n",
       "      <th>prices</th>\n",
       "      <th>order_id</th>\n",
       "      <th>user_id</th>\n",
       "      <th>eval_set</th>\n",
       "      <th>order_number</th>\n",
       "      <th>order_dow</th>\n",
       "      <th>...</th>\n",
       "      <th>Last Name</th>\n",
       "      <th>Gender</th>\n",
       "      <th>State</th>\n",
       "      <th>Age</th>\n",
       "      <th>date_joined</th>\n",
       "      <th>Dependants</th>\n",
       "      <th>Marital_Status</th>\n",
       "      <th>income</th>\n",
       "      <th>_merge</th>\n",
       "      <th>region</th>\n",
       "    </tr>\n",
       "  </thead>\n",
       "  <tbody>\n",
       "    <tr>\n",
       "      <th>0</th>\n",
       "      <td>1</td>\n",
       "      <td>Chocolate Sandwich Cookies</td>\n",
       "      <td>61</td>\n",
       "      <td>19</td>\n",
       "      <td>5.80</td>\n",
       "      <td>3139998</td>\n",
       "      <td>138</td>\n",
       "      <td>prior</td>\n",
       "      <td>28</td>\n",
       "      <td>6</td>\n",
       "      <td>...</td>\n",
       "      <td>Cox</td>\n",
       "      <td>Male</td>\n",
       "      <td>Minnesota</td>\n",
       "      <td>81</td>\n",
       "      <td>8/1/2019</td>\n",
       "      <td>1</td>\n",
       "      <td>married</td>\n",
       "      <td>49620</td>\n",
       "      <td>both</td>\n",
       "      <td>Midwest</td>\n",
       "    </tr>\n",
       "    <tr>\n",
       "      <th>1</th>\n",
       "      <td>1</td>\n",
       "      <td>Chocolate Sandwich Cookies</td>\n",
       "      <td>61</td>\n",
       "      <td>19</td>\n",
       "      <td>5.80</td>\n",
       "      <td>1977647</td>\n",
       "      <td>138</td>\n",
       "      <td>prior</td>\n",
       "      <td>30</td>\n",
       "      <td>6</td>\n",
       "      <td>...</td>\n",
       "      <td>Cox</td>\n",
       "      <td>Male</td>\n",
       "      <td>Minnesota</td>\n",
       "      <td>81</td>\n",
       "      <td>8/1/2019</td>\n",
       "      <td>1</td>\n",
       "      <td>married</td>\n",
       "      <td>49620</td>\n",
       "      <td>both</td>\n",
       "      <td>Midwest</td>\n",
       "    </tr>\n",
       "    <tr>\n",
       "      <th>2</th>\n",
       "      <td>907</td>\n",
       "      <td>Premium Sliced Bacon</td>\n",
       "      <td>106</td>\n",
       "      <td>12</td>\n",
       "      <td>20.00</td>\n",
       "      <td>3160996</td>\n",
       "      <td>138</td>\n",
       "      <td>prior</td>\n",
       "      <td>1</td>\n",
       "      <td>5</td>\n",
       "      <td>...</td>\n",
       "      <td>Cox</td>\n",
       "      <td>Male</td>\n",
       "      <td>Minnesota</td>\n",
       "      <td>81</td>\n",
       "      <td>8/1/2019</td>\n",
       "      <td>1</td>\n",
       "      <td>married</td>\n",
       "      <td>49620</td>\n",
       "      <td>both</td>\n",
       "      <td>Midwest</td>\n",
       "    </tr>\n",
       "    <tr>\n",
       "      <th>3</th>\n",
       "      <td>907</td>\n",
       "      <td>Premium Sliced Bacon</td>\n",
       "      <td>106</td>\n",
       "      <td>12</td>\n",
       "      <td>20.00</td>\n",
       "      <td>2254091</td>\n",
       "      <td>138</td>\n",
       "      <td>prior</td>\n",
       "      <td>10</td>\n",
       "      <td>5</td>\n",
       "      <td>...</td>\n",
       "      <td>Cox</td>\n",
       "      <td>Male</td>\n",
       "      <td>Minnesota</td>\n",
       "      <td>81</td>\n",
       "      <td>8/1/2019</td>\n",
       "      <td>1</td>\n",
       "      <td>married</td>\n",
       "      <td>49620</td>\n",
       "      <td>both</td>\n",
       "      <td>Midwest</td>\n",
       "    </tr>\n",
       "    <tr>\n",
       "      <th>4</th>\n",
       "      <td>1000</td>\n",
       "      <td>Apricots</td>\n",
       "      <td>18</td>\n",
       "      <td>10</td>\n",
       "      <td>12.90</td>\n",
       "      <td>505689</td>\n",
       "      <td>138</td>\n",
       "      <td>prior</td>\n",
       "      <td>9</td>\n",
       "      <td>6</td>\n",
       "      <td>...</td>\n",
       "      <td>Cox</td>\n",
       "      <td>Male</td>\n",
       "      <td>Minnesota</td>\n",
       "      <td>81</td>\n",
       "      <td>8/1/2019</td>\n",
       "      <td>1</td>\n",
       "      <td>married</td>\n",
       "      <td>49620</td>\n",
       "      <td>both</td>\n",
       "      <td>Midwest</td>\n",
       "    </tr>\n",
       "  </tbody>\n",
       "</table>\n",
       "<p>5 rows × 35 columns</p>\n",
       "</div>"
      ],
      "text/plain": [
       "   product_id                product_name  aisle_id  department_id  prices  \\\n",
       "0           1  Chocolate Sandwich Cookies        61             19    5.80   \n",
       "1           1  Chocolate Sandwich Cookies        61             19    5.80   \n",
       "2         907        Premium Sliced Bacon       106             12   20.00   \n",
       "3         907        Premium Sliced Bacon       106             12   20.00   \n",
       "4        1000                    Apricots        18             10   12.90   \n",
       "\n",
       "  order_id user_id eval_set  order_number  order_dow  ...  Last Name  Gender  \\\n",
       "0  3139998     138    prior            28          6  ...        Cox    Male   \n",
       "1  1977647     138    prior            30          6  ...        Cox    Male   \n",
       "2  3160996     138    prior             1          5  ...        Cox    Male   \n",
       "3  2254091     138    prior            10          5  ...        Cox    Male   \n",
       "4   505689     138    prior             9          6  ...        Cox    Male   \n",
       "\n",
       "       State  Age date_joined Dependants Marital_Status income  _merge  \\\n",
       "0  Minnesota   81    8/1/2019          1        married  49620    both   \n",
       "1  Minnesota   81    8/1/2019          1        married  49620    both   \n",
       "2  Minnesota   81    8/1/2019          1        married  49620    both   \n",
       "3  Minnesota   81    8/1/2019          1        married  49620    both   \n",
       "4  Minnesota   81    8/1/2019          1        married  49620    both   \n",
       "\n",
       "    region  \n",
       "0  Midwest  \n",
       "1  Midwest  \n",
       "2  Midwest  \n",
       "3  Midwest  \n",
       "4  Midwest  \n",
       "\n",
       "[5 rows x 35 columns]"
      ]
     },
     "execution_count": 39,
     "metadata": {},
     "output_type": "execute_result"
    }
   ],
   "source": [
    "df.head()"
   ]
  },
  {
   "cell_type": "code",
   "execution_count": 42,
   "id": "ed71747e",
   "metadata": {},
   "outputs": [
    {
     "data": {
      "text/plain": [
       "0    Low spender\n",
       "1    Low spender\n",
       "2    Low spender\n",
       "3    Low spender\n",
       "4    Low spender\n",
       "Name: spending_flag, dtype: object"
      ]
     },
     "execution_count": 42,
     "metadata": {},
     "output_type": "execute_result"
    }
   ],
   "source": [
    "df.spending_flag.head()"
   ]
  },
  {
   "cell_type": "code",
   "execution_count": 43,
   "id": "647457ca",
   "metadata": {},
   "outputs": [
    {
     "data": {
      "text/plain": [
       "Low spender     31798751\n",
       "High spender      635461\n",
       "Name: spending_flag, dtype: int64"
      ]
     },
     "execution_count": 43,
     "metadata": {},
     "output_type": "execute_result"
    }
   ],
   "source": [
    "df['spending_flag'].value_counts(dropna = False)"
   ]
  },
  {
   "cell_type": "code",
   "execution_count": 12,
   "id": "71741b66",
   "metadata": {},
   "outputs": [],
   "source": [
    "# Create a new column \"region\" using loc function with mapping\n",
    "df['region'] = 'West'\n",
    "\n",
    "df.loc[df['State'].isin(['Maine', 'New Hampshire', 'Vermont', 'Massachusetts', 'Rhode Island', 'Connecticut', 'New York', 'Pennsylvania', 'New Jersey']), 'region'] = 'East'\n",
    "\n",
    "df.loc[df['State'].isin(['Wisconsin', 'Michigan', 'Illinois', 'Indiana', 'Ohio', 'North Dakota', 'South Dakota', 'Nebraska', 'Kansas', 'Minnesota', 'Iowa', 'Missouri']), 'region'] = 'Midwest'\n",
    "\n",
    "df.loc[df['State'].isin(['Delaware', 'Maryland', 'District of Columbia', 'Virginia', 'West Virginia', 'North Carolina', 'South Carolina', 'Georgia', 'Florida', 'Kentucky', 'Tennessee', 'Mississippi', 'Alabama', 'Oklahoma', 'Texas', 'Arkansas', 'Louisiana']), 'region'] = 'South'"
   ]
  },
  {
   "cell_type": "code",
   "execution_count": 83,
   "id": "b08d367d",
   "metadata": {},
   "outputs": [],
   "source": [
    "# Create a total regional customers filter\n",
    "total_region_filter = df['region'].value_counts(dropna = False)"
   ]
  },
  {
   "cell_type": "code",
   "execution_count": 84,
   "id": "913e01bf",
   "metadata": {},
   "outputs": [
    {
     "data": {
      "text/plain": [
       "South      10801610\n",
       "West        8300445\n",
       "Midwest     7603810\n",
       "East        5728347\n",
       "Name: region, dtype: int64"
      ]
     },
     "execution_count": 84,
     "metadata": {},
     "output_type": "execute_result"
    }
   ],
   "source": [
    "total_region_filter.head()"
   ]
  },
  {
   "cell_type": "code",
   "execution_count": 15,
   "id": "07804d54",
   "metadata": {},
   "outputs": [
    {
     "data": {
      "text/html": [
       "<div>\n",
       "<style scoped>\n",
       "    .dataframe tbody tr th:only-of-type {\n",
       "        vertical-align: middle;\n",
       "    }\n",
       "\n",
       "    .dataframe tbody tr th {\n",
       "        vertical-align: top;\n",
       "    }\n",
       "\n",
       "    .dataframe thead th {\n",
       "        text-align: right;\n",
       "    }\n",
       "</style>\n",
       "<table border=\"1\" class=\"dataframe\">\n",
       "  <thead>\n",
       "    <tr style=\"text-align: right;\">\n",
       "      <th></th>\n",
       "      <th>State</th>\n",
       "      <th>region</th>\n",
       "    </tr>\n",
       "  </thead>\n",
       "  <tbody>\n",
       "    <tr>\n",
       "      <th>0</th>\n",
       "      <td>Minnesota</td>\n",
       "      <td>Midwest</td>\n",
       "    </tr>\n",
       "    <tr>\n",
       "      <th>1</th>\n",
       "      <td>Minnesota</td>\n",
       "      <td>Midwest</td>\n",
       "    </tr>\n",
       "    <tr>\n",
       "      <th>2</th>\n",
       "      <td>Minnesota</td>\n",
       "      <td>Midwest</td>\n",
       "    </tr>\n",
       "    <tr>\n",
       "      <th>3</th>\n",
       "      <td>Minnesota</td>\n",
       "      <td>Midwest</td>\n",
       "    </tr>\n",
       "    <tr>\n",
       "      <th>4</th>\n",
       "      <td>Minnesota</td>\n",
       "      <td>Midwest</td>\n",
       "    </tr>\n",
       "  </tbody>\n",
       "</table>\n",
       "</div>"
      ],
      "text/plain": [
       "       State   region\n",
       "0  Minnesota  Midwest\n",
       "1  Minnesota  Midwest\n",
       "2  Minnesota  Midwest\n",
       "3  Minnesota  Midwest\n",
       "4  Minnesota  Midwest"
      ]
     },
     "execution_count": 15,
     "metadata": {},
     "output_type": "execute_result"
    }
   ],
   "source": [
    "df[['State', 'region']].head()"
   ]
  },
  {
   "cell_type": "code",
   "execution_count": 16,
   "id": "887a07ef",
   "metadata": {},
   "outputs": [
    {
     "data": {
      "text/html": [
       "<div>\n",
       "<style scoped>\n",
       "    .dataframe tbody tr th:only-of-type {\n",
       "        vertical-align: middle;\n",
       "    }\n",
       "\n",
       "    .dataframe tbody tr th {\n",
       "        vertical-align: top;\n",
       "    }\n",
       "\n",
       "    .dataframe thead th {\n",
       "        text-align: right;\n",
       "    }\n",
       "</style>\n",
       "<table border=\"1\" class=\"dataframe\">\n",
       "  <thead>\n",
       "    <tr style=\"text-align: right;\">\n",
       "      <th></th>\n",
       "      <th>State</th>\n",
       "      <th>region</th>\n",
       "    </tr>\n",
       "  </thead>\n",
       "  <tbody>\n",
       "    <tr>\n",
       "      <th>32434207</th>\n",
       "      <td>Alabama</td>\n",
       "      <td>South</td>\n",
       "    </tr>\n",
       "    <tr>\n",
       "      <th>32434208</th>\n",
       "      <td>Vermont</td>\n",
       "      <td>East</td>\n",
       "    </tr>\n",
       "    <tr>\n",
       "      <th>32434209</th>\n",
       "      <td>Vermont</td>\n",
       "      <td>East</td>\n",
       "    </tr>\n",
       "    <tr>\n",
       "      <th>32434210</th>\n",
       "      <td>Vermont</td>\n",
       "      <td>East</td>\n",
       "    </tr>\n",
       "    <tr>\n",
       "      <th>32434211</th>\n",
       "      <td>Vermont</td>\n",
       "      <td>East</td>\n",
       "    </tr>\n",
       "  </tbody>\n",
       "</table>\n",
       "</div>"
      ],
      "text/plain": [
       "            State region\n",
       "32434207  Alabama  South\n",
       "32434208  Vermont   East\n",
       "32434209  Vermont   East\n",
       "32434210  Vermont   East\n",
       "32434211  Vermont   East"
      ]
     },
     "execution_count": 16,
     "metadata": {},
     "output_type": "execute_result"
    }
   ],
   "source": [
    "df[['State', 'region']].tail()"
   ]
  },
  {
   "cell_type": "code",
   "execution_count": 77,
   "id": "9ccabee3",
   "metadata": {},
   "outputs": [],
   "source": [
    "# Create filter for spending habits\n",
    "high_spenders = df[df['spending_flag'] == 'High spender']"
   ]
  },
  {
   "cell_type": "code",
   "execution_count": 73,
   "id": "2a1a991e",
   "metadata": {},
   "outputs": [],
   "source": [
    "low_spenders = df[df['spending_flag'] == 'Low spender']"
   ]
  },
  {
   "cell_type": "code",
   "execution_count": 78,
   "id": "5d9db86a",
   "metadata": {},
   "outputs": [],
   "source": [
    "# Group by spenders by region\n",
    "high_spender_count = high_spenders.groupby('region').size()"
   ]
  },
  {
   "cell_type": "code",
   "execution_count": 74,
   "id": "2b2c1cfb",
   "metadata": {},
   "outputs": [],
   "source": [
    "low_spender_count = low_spenders.groupby('region').size()"
   ]
  },
  {
   "cell_type": "code",
   "execution_count": 79,
   "id": "157dd79c",
   "metadata": {},
   "outputs": [
    {
     "data": {
      "text/plain": [
       "region\n",
       "East       108343\n",
       "Midwest    156129\n",
       "South      210182\n",
       "West       160807\n",
       "dtype: int64"
      ]
     },
     "execution_count": 79,
     "metadata": {},
     "output_type": "execute_result"
    }
   ],
   "source": [
    "# Check the output for high spender\n",
    "high_spender_count.head()"
   ]
  },
  {
   "cell_type": "code",
   "execution_count": 135,
   "id": "f61b5331",
   "metadata": {},
   "outputs": [
    {
     "data": {
      "image/png": "[encoded data removed]",
      "text/plain": [
       "<Figure size 640x480 with 1 Axes>"
      ]
     },
     "metadata": {},
     "output_type": "display_data"
    }
   ],
   "source": [
    "# Creating bar chart for high spenders and saving it as an objecet \n",
    "bar_high_spenders = high_spender_count.plot.bar(color = 'teal')\n",
    "plt.title('High Spenders by Region')\n",
    "plt.xlabel('Region')\n",
    "plt.ylabel('Customer Count')\n",
    "plt.xticks(rotation=0)\n",
    "plt.show()\n"
   ]
  },
  {
   "cell_type": "code",
   "execution_count": 62,
   "id": "d5ab20f6",
   "metadata": {},
   "outputs": [],
   "source": [
    "# Saving as png\n",
    "bar_high_spenders.figure.savefig(os.path.join(path, '04 Analysis','Visualizations', 'bar_regional_high_spenders.png'))"
   ]
  },
  {
   "cell_type": "code",
   "execution_count": 75,
   "id": "44c2aead",
   "metadata": {},
   "outputs": [
    {
     "data": {
      "text/plain": [
       "region\n",
       "East        5620004\n",
       "Midwest     7447681\n",
       "South      10591428\n",
       "West        8139638\n",
       "dtype: int64"
      ]
     },
     "execution_count": 75,
     "metadata": {},
     "output_type": "execute_result"
    }
   ],
   "source": [
    "# Check the output for low spender\n",
    "low_spender_count.head()"
   ]
  },
  {
   "cell_type": "code",
   "execution_count": 76,
   "id": "b0d13e20",
   "metadata": {},
   "outputs": [
    {
     "data": {
      "image/png": "[encoded data removed]",
      "text/plain": [
       "<Figure size 640x480 with 1 Axes>"
      ]
     },
     "metadata": {},
     "output_type": "display_data"
    }
   ],
   "source": [
    "# Creating bar chart for low spenders and saving it as an objecet \n",
    "bar_low_spenders = low_spender_count.plot.bar()\n",
    "plt.title('Low Spenders by Region')\n",
    "plt.xlabel('Region')\n",
    "plt.ylabel('Customer Count')\n",
    "plt.xticks(rotation=0)\n",
    "plt.show()"
   ]
  },
  {
   "cell_type": "code",
   "execution_count": 81,
   "id": "4d01d77d",
   "metadata": {},
   "outputs": [],
   "source": [
    "# Saving as png\n",
    "bar_low_spenders.figure.savefig(os.path.join(path, '04 Analysis','Visualizations', 'bar_regional_low_spenders.png'))"
   ]
  },
  {
   "cell_type": "code",
   "execution_count": 89,
   "id": "208a8b3b",
   "metadata": {},
   "outputs": [],
   "source": [
    "# Create ratio for low spenders, %\n",
    "low_spenders_ratio = (low_spender_count / total_region_filter)*100"
   ]
  },
  {
   "cell_type": "code",
   "execution_count": 90,
   "id": "8f0624b0",
   "metadata": {},
   "outputs": [
    {
     "data": {
      "text/plain": [
       "East      98.11\n",
       "Midwest   97.95\n",
       "South     98.05\n",
       "West      98.06\n",
       "dtype: float64"
      ]
     },
     "execution_count": 90,
     "metadata": {},
     "output_type": "execute_result"
    }
   ],
   "source": [
    "low_spenders_ratio.head()"
   ]
  },
  {
   "cell_type": "code",
   "execution_count": 91,
   "id": "b2fb7635",
   "metadata": {},
   "outputs": [],
   "source": [
    "# Create ratio for high spenders, %\n",
    "high_spenders_ratio = (high_spender_count / total_region_filter)*100"
   ]
  },
  {
   "cell_type": "code",
   "execution_count": 92,
   "id": "f6d4a6a0",
   "metadata": {},
   "outputs": [
    {
     "data": {
      "text/plain": [
       "East      1.89\n",
       "Midwest   2.05\n",
       "South     1.95\n",
       "West      1.94\n",
       "dtype: float64"
      ]
     },
     "execution_count": 92,
     "metadata": {},
     "output_type": "execute_result"
    }
   ],
   "source": [
    "high_spenders_ratio.head()"
   ]
  },
  {
   "cell_type": "markdown",
   "id": "3e35f640",
   "metadata": {},
   "source": [
    "## Question 4"
   ]
  },
  {
   "cell_type": "markdown",
   "id": "cf47079b",
   "metadata": {},
   "source": [
    "#### The Instacart CFO isn’t interested in customers who don’t generate much revenue for the app. Create an exclusion flag for low-activity customers (customers with less than 5 orders) and exclude them from the data. Make sure you export this sample."
   ]
  },
  {
   "cell_type": "code",
   "execution_count": 99,
   "id": "2cf37d10",
   "metadata": {},
   "outputs": [],
   "source": [
    "# Create exclusion flag\n",
    "df_activity = df['max_order'] < 5"
   ]
  },
  {
   "cell_type": "code",
   "execution_count": 100,
   "id": "bb889337",
   "metadata": {},
   "outputs": [
    {
     "data": {
      "text/plain": [
       "False    30992664\n",
       "True      1441548\n",
       "Name: max_order, dtype: int64"
      ]
     },
     "execution_count": 100,
     "metadata": {},
     "output_type": "execute_result"
    }
   ],
   "source": [
    "df_activity.value_counts()"
   ]
  },
  {
   "cell_type": "code",
   "execution_count": 106,
   "id": "aa87d34b",
   "metadata": {},
   "outputs": [],
   "source": [
    "# Create new data set with orders >5\n",
    "df_high_activity = df[~df_activity]"
   ]
  },
  {
   "cell_type": "code",
   "execution_count": 107,
   "id": "c6f4c791",
   "metadata": {},
   "outputs": [
    {
     "data": {
      "text/plain": [
       "(30992664, 35)"
      ]
     },
     "execution_count": 107,
     "metadata": {},
     "output_type": "execute_result"
    }
   ],
   "source": [
    "# Check output\n",
    "df_high_activity.shape"
   ]
  },
  {
   "cell_type": "code",
   "execution_count": 105,
   "id": "2c7aa415",
   "metadata": {},
   "outputs": [],
   "source": [
    "# Create new data set with orders <5\n",
    "df_low_activity = df[df_activity]"
   ]
  },
  {
   "cell_type": "code",
   "execution_count": 108,
   "id": "5c9f9722",
   "metadata": {},
   "outputs": [
    {
     "data": {
      "text/plain": [
       "(1441548, 35)"
      ]
     },
     "execution_count": 108,
     "metadata": {},
     "output_type": "execute_result"
    }
   ],
   "source": [
    "# Check output\n",
    "df_low_activity.shape"
   ]
  },
  {
   "cell_type": "code",
   "execution_count": 111,
   "id": "d289acb3",
   "metadata": {},
   "outputs": [],
   "source": [
    "# Export dataset as pickle format\n",
    "df_low_activity.to_pickle(os.path.join(path, '02 Data', 'Prepared Data', 'low_act_set.pkl'))"
   ]
  },
  {
   "cell_type": "code",
   "execution_count": 112,
   "id": "ea5f0936",
   "metadata": {},
   "outputs": [],
   "source": [
    "# Export dataset as pickle format\n",
    "df_high_activity.to_pickle(os.path.join(path, '02 Data', 'Prepared Data', 'high_act_set.pkl'))"
   ]
  },
  {
   "cell_type": "markdown",
   "id": "429a12f1",
   "metadata": {},
   "source": [
    "## Question 5"
   ]
  },
  {
   "cell_type": "markdown",
   "id": "b312202a",
   "metadata": {},
   "source": [
    "#### The marketing and business strategy units at Instacart want to create more-relevant marketing strategies for different products and are, thus, curious about customer profiling in their database. Create a profiling variable based on age, income, certain goods in the “department_id” column, and number of dependents. You might also use the “orders_day_of_week” and “order_hour_of_day” columns if you can think of a way they would impact customer profiles. (Hint: As an example, try thinking of what characteristics would lead you to the profile “Single adult” or “Young parent.”)"
   ]
  },
  {
   "cell_type": "code",
   "execution_count": null,
   "id": "7ea97151",
   "metadata": {},
   "outputs": [],
   "source": []
  },
  {
   "cell_type": "code",
   "execution_count": null,
   "id": "41ab0fee",
   "metadata": {},
   "outputs": [],
   "source": [
    "# Create stacked Bar Chart\n",
    "region_spender_ratio_stacked_bar = region_spending.plot(kind='bar', stacked=True, edgecolor = 'black', color=colors)\n",
    "# Add Title and Labels\n",
    "region_spender_ratio_stacked_bar.set_xlabel('Region')\n",
    "region_spender_ratio_stacked_bar.set_ylabel('Percent')\n",
    "region_spender_ratio_stacked_bar.set_title('High and Low Spender Ratio by Region')\n",
    "region_spender_ratio_stacked_bar.legend(title= 'Spending Flag', loc='upper right')\n",
    "plt.xticks(rotation=0)\n",
    "plt.show()"
   ]
  },
  {
   "cell_type": "code",
   "execution_count": null,
   "id": "0d2e4007",
   "metadata": {},
   "outputs": [],
   "source": []
  },
  {
   "cell_type": "code",
   "execution_count": null,
   "id": "a94c6232",
   "metadata": {},
   "outputs": [],
   "source": []
  }
 ],
 "metadata": {
  "kernelspec": {
   "display_name": "Python 3 (ipykernel)",
   "language": "python",
   "name": "python3"
  },
  "language_info": {
   "codemirror_mode": {
    "name": "ipython",
    "version": 3
   },
   "file_extension": ".py",
   "mimetype": "text/x-python",
   "name": "python",
   "nbconvert_exporter": "python",
   "pygments_lexer": "ipython3",
   "version": "3.10.9"
  }
 },
 "nbformat": 4,
 "nbformat_minor": 5
}
