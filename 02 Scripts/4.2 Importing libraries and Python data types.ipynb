{
 "cells": [
  {
   "cell_type": "code",
   "execution_count": 6,
   "id": "ccc8f246",
   "metadata": {},
   "outputs": [],
   "source": [
    "# Import libraries\n",
    "import pandas as pd\n",
    "import numpy as np\n",
    "import os"
   ]
  },
  {
   "cell_type": "code",
   "execution_count": null,
   "id": "5142136e",
   "metadata": {},
   "outputs": [],
   "source": [
    "#Python data types"
   ]
  },
  {
   "cell_type": "code",
   "execution_count": 7,
   "id": "4d64f500",
   "metadata": {},
   "outputs": [],
   "source": [
    "x = 2"
   ]
  },
  {
   "cell_type": "code",
   "execution_count": 13,
   "id": "7ca5bc1b",
   "metadata": {},
   "outputs": [],
   "source": [
    "z=98"
   ]
  },
  {
   "cell_type": "code",
   "execution_count": 14,
   "id": "4856f415",
   "metadata": {},
   "outputs": [
    {
     "data": {
      "text/plain": [
       "100"
      ]
     },
     "execution_count": 14,
     "metadata": {},
     "output_type": "execute_result"
    }
   ],
   "source": [
    "x+z"
   ]
  },
  {
   "cell_type": "code",
   "execution_count": 15,
   "id": "632f22ec",
   "metadata": {},
   "outputs": [
    {
     "data": {
      "text/plain": [
       "100"
      ]
     },
     "execution_count": 15,
     "metadata": {},
     "output_type": "execute_result"
    }
   ],
   "source": [
    "x+98"
   ]
  },
  {
   "cell_type": "code",
   "execution_count": 16,
   "id": "17c93345",
   "metadata": {},
   "outputs": [
    {
     "data": {
      "text/plain": [
       "100"
      ]
     },
     "execution_count": 16,
     "metadata": {},
     "output_type": "execute_result"
    }
   ],
   "source": [
    "102-x"
   ]
  },
  {
   "cell_type": "code",
   "execution_count": 17,
   "id": "fe975ad9",
   "metadata": {},
   "outputs": [],
   "source": [
    "y=4.4"
   ]
  },
  {
   "cell_type": "code",
   "execution_count": 18,
   "id": "95ca909b",
   "metadata": {},
   "outputs": [],
   "source": [
    "c=1.1"
   ]
  },
  {
   "cell_type": "code",
   "execution_count": 19,
   "id": "d3c61b66",
   "metadata": {},
   "outputs": [
    {
     "data": {
      "text/plain": [
       "4.0"
      ]
     },
     "execution_count": 19,
     "metadata": {},
     "output_type": "execute_result"
    }
   ],
   "source": [
    "y/c"
   ]
  },
  {
   "cell_type": "code",
   "execution_count": 21,
   "id": "ae85ab5f",
   "metadata": {},
   "outputs": [],
   "source": [
    "a='ana'"
   ]
  },
  {
   "cell_type": "code",
   "execution_count": 26,
   "id": "a2bc6e32",
   "metadata": {},
   "outputs": [],
   "source": [
    "b='lytics'"
   ]
  },
  {
   "cell_type": "code",
   "execution_count": 27,
   "id": "aef6ddee",
   "metadata": {},
   "outputs": [
    {
     "data": {
      "text/plain": [
       "'analytics'"
      ]
     },
     "execution_count": 27,
     "metadata": {},
     "output_type": "execute_result"
    }
   ],
   "source": [
    "a+b"
   ]
  },
  {
   "cell_type": "code",
   "execution_count": 28,
   "id": "608f4a34",
   "metadata": {},
   "outputs": [],
   "source": [
    "d='Data '"
   ]
  },
  {
   "cell_type": "code",
   "execution_count": 29,
   "id": "df7634c2",
   "metadata": {},
   "outputs": [],
   "source": [
    "e='. Exercise 4.2.'"
   ]
  },
  {
   "cell_type": "code",
   "execution_count": 30,
   "id": "21714086",
   "metadata": {},
   "outputs": [
    {
     "data": {
      "text/plain": [
       "'Data analytics. Exercise 4.2.'"
      ]
     },
     "execution_count": 30,
     "metadata": {},
     "output_type": "execute_result"
    }
   ],
   "source": [
    "d+a+b+e"
   ]
  },
  {
   "cell_type": "code",
   "execution_count": null,
   "id": "e17922a5",
   "metadata": {},
   "outputs": [],
   "source": []
  },
  {
   "cell_type": "code",
   "execution_count": null,
   "id": "7553fa41",
   "metadata": {},
   "outputs": [],
   "source": []
  },
  {
   "cell_type": "code",
   "execution_count": null,
   "id": "604ef908",
   "metadata": {},
   "outputs": [],
   "source": []
  },
  {
   "cell_type": "code",
   "execution_count": null,
   "id": "c954c5f2",
   "metadata": {},
   "outputs": [],
   "source": []
  },
  {
   "cell_type": "code",
   "execution_count": null,
   "id": "2d6b181f",
   "metadata": {},
   "outputs": [],
   "source": []
  },
  {
   "cell_type": "code",
   "execution_count": null,
   "id": "282d6bb7",
   "metadata": {},
   "outputs": [],
   "source": []
  },
  {
   "cell_type": "code",
   "execution_count": null,
   "id": "b9df4054",
   "metadata": {},
   "outputs": [],
   "source": []
  }
 ],
 "metadata": {
  "kernelspec": {
   "display_name": "Python 3 (ipykernel)",
   "language": "python",
   "name": "python3"
  },
  "language_info": {
   "codemirror_mode": {
    "name": "ipython",
    "version": 3
   },
   "file_extension": ".py",
   "mimetype": "text/x-python",
   "name": "python",
   "nbconvert_exporter": "python",
   "pygments_lexer": "ipython3",
   "version": "3.10.9"
  }
 },
 "nbformat": 4,
 "nbformat_minor": 5
}
